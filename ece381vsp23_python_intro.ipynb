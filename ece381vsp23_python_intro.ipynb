{
 "cells": [
  {
   "cell_type": "markdown",
   "metadata": {},
   "source": [
    "# ECE 381V / CSE 397 Computational MRI -- Spring 2023\n",
    "\n",
    "## Using Python for Signals and Systems\n",
    "\n",
    "Prof. Jon Tamir\n",
    "\n",
    "These labs were developed by Prof. Babak Ayazifar for EE 120 at UC Berkeley\n",
    "\n",
    "v1 - Spring 2019: Dominic Carrano, Sukrit Arora, and Babak Ayazifar  \n",
    "v2 - Fall 2019: Dominic Carrano\n",
    "v3 - Spring 2021: Jon Tamir\n",
    "v4 - Spring 2023: Jon Tamir"
   ]
  },
  {
   "cell_type": "markdown",
   "metadata": {},
   "source": [
    "# Submitting The Notebooks\n",
    "\n",
    "In terms of what we expect from you to do in completing the labs: every place you're required to answer a question, whether it be in the form of writing code or interpreting plots/results that you generate, it will be marked with \"TODO\".\n",
    "\n",
    "When done, go to the notebook menu (under the jupyter logo) and click `File -> Print Preview` and save that for submission as PDF. If this doesn't work you can instead try `File -> Download as -> PDF via LaTeX (.pdf)`."
   ]
  },
  {
   "cell_type": "markdown",
   "metadata": {},
   "source": [
    "### Other iPython Notebook navigation tips\n",
    "- To add a new cell, either select `\"Insert->Insert New Cell Below\"` or click the white plus button\n",
    "- You can change the cell mode from code to text in the pulldown menu. I use `Markdown` for text\n",
    "- You can change the texts in the `Markdown` cells by double-clicking them.\n",
    "- `Help->Keyboard Shortcuts` has a list of keyboard shortcuts"
   ]
  },
  {
   "cell_type": "markdown",
   "metadata": {},
   "source": [
    "# Part 1: Overview of Jupyter notebooks\n",
    "### Libraries\n",
    "\n",
    "These are the libraries that we will be using most often in this class:\n",
    "    \n",
    "__numpy__\n",
    "\n",
    "[NumPy](https://numpy.org) is the fundamental package for scientific computing with Python.\n",
    "\n",
    "__scipy__\n",
    "\n",
    "The [SciPy](https://www.scipy.org) library is a collection of numerical algorithms and domain-specific toolboxes, including signal processing, optimization, statistics and much more.\n",
    "\n",
    "__matplotlib__\n",
    "\n",
    "[Matplotlib](https://matplotlib.org) is a python 2D plotting library which produces publication quality figures in a variety of hardcopy formats and interactive environments across platforms.\n",
    "\n",
    "__sigpy__\n",
    "\n",
    "[SigPy](https://sigpy.readthedocs.io/en/latest/) is a python signal processing library developed by [Frank Ong](https://www.frankong.com), with emphasis on use for MRI reconstruction\n",
    "\n",
    "__bart__\n",
    "\n",
    "[BART](https://mrirecon.github.io/bart) is not actually a python library. It consists of a set of MRI simulation and reconstruction tools and a C-programming library. We will use BART through its Python interface"
   ]
  },
  {
   "cell_type": "markdown",
   "metadata": {},
   "source": [
    "### Functions\n",
    "\n",
    "Functions take in a set of arguments, and return (possibly multiple) values. Here's an example of a function that checks if a number is divisible by 3, using Python's modulus operator (`a % b` returns the remainder of dividing `a` by `b`; if the remainder is 0, then `a` is divisible by `b`):"
   ]
  },
  {
   "cell_type": "code",
   "execution_count": null,
   "metadata": {},
   "outputs": [],
   "source": [
    "def is_divisible_by_3(x):\n",
    "    return x % 3 == 0\n",
    "\n",
    "print(\"6 is divisible by 3? {0}\".format(is_divisible_by_3(6)))\n",
    "print(\"8 is divisible by 3? {0}\".format(is_divisible_by_3(8)))"
   ]
  },
  {
   "cell_type": "markdown",
   "metadata": {},
   "source": [
    "You can also return multiple values from a function at once; just separate them with commas in the return statement. Similarly, to assign them to values after the function call, just separate the variables you want to assign the return values to by commas. Here's a dummy example that takes in two numbers, and returns their sum and their difference:"
   ]
  },
  {
   "cell_type": "code",
   "execution_count": null,
   "metadata": {},
   "outputs": [],
   "source": [
    "def sum_and_diff(x, y):\n",
    "    return x+y, x-y\n",
    "\n",
    "a, b = sum_and_diff(3, 5)\n",
    "print(a) # 3 + 5 = 8\n",
    "print(b) # 3 - 5 = -2 "
   ]
  },
  {
   "cell_type": "markdown",
   "metadata": {},
   "source": [
    "### Numpy Array\n",
    "\n",
    "The numpy array, aka an \"ndarray\", is like a list with multidimensional support and more functions. This will be the primary data structure in our class.\n",
    "\n",
    "Arithmetic operations on NumPy arrays correspond to elementwise operations. \n",
    "\n",
    "Important NumPy Array functions:\n",
    "\n",
    "- `.shape` returns the dimensions of the array.\n",
    "\n",
    "- `.ndim` returns the number of dimensions. \n",
    "\n",
    "- `.size` returns the number of entries in the array.\n",
    "\n",
    "- `len()` returns the first dimension.\n",
    "\n",
    "\n",
    "To use functions in NumPy, we have to import NumPy to our workspace. This is done by the command `import numpy`. By convention, we rename `numpy` as `np` for convenience."
   ]
  },
  {
   "cell_type": "markdown",
   "metadata": {},
   "source": [
    "### Creating a Numpy Array"
   ]
  },
  {
   "cell_type": "code",
   "execution_count": null,
   "metadata": {},
   "outputs": [],
   "source": [
    "import numpy as np"
   ]
  },
  {
   "cell_type": "code",
   "execution_count": null,
   "metadata": {},
   "outputs": [],
   "source": [
    "x = np.array([[1, 2], [3 , 4]])\n",
    "print(x)"
   ]
  },
  {
   "cell_type": "markdown",
   "metadata": {},
   "source": [
    "### Getting the shape of a Numpy Array"
   ]
  },
  {
   "cell_type": "code",
   "execution_count": null,
   "metadata": {},
   "outputs": [],
   "source": [
    "x.shape # returns the dimensions of the numpy array"
   ]
  },
  {
   "cell_type": "code",
   "execution_count": null,
   "metadata": {},
   "outputs": [],
   "source": [
    "np.shape(x) # equivalent to x.shape"
   ]
  },
  {
   "cell_type": "markdown",
   "metadata": {},
   "source": [
    "### Elementwise operations\n",
    "\n",
    "One major advantage of using numpy arrays is that arithmetic operations on numpy arrays correspond to elementwise operations. This makes numpy amenable to vectorized implementations of algorithms, a common technique used for speeding up computer simulations than can be parallelized."
   ]
  },
  {
   "cell_type": "code",
   "execution_count": null,
   "metadata": {},
   "outputs": [],
   "source": [
    "print(x)\n",
    "print()\n",
    "print(x + 2) # numpy is smart and assumes you want this to be done to all elements!"
   ]
  },
  {
   "cell_type": "markdown",
   "metadata": {},
   "source": [
    "### Matrix multiplication\n",
    "\n",
    "You can use `np.matrix` with the multiplication operator or `np.dot` to do matrix multiplication."
   ]
  },
  {
   "cell_type": "code",
   "execution_count": null,
   "metadata": {},
   "outputs": [],
   "source": [
    "print(np.matrix(x) * np.matrix(x))\n",
    "print() # newline for formatting\n",
    "\n",
    "# Or\n",
    "print(np.dot(x,x))"
   ]
  },
  {
   "cell_type": "markdown",
   "metadata": {},
   "source": [
    "### Slicing numpy arrays\n",
    "\n",
    "Numpy uses pass-by-reference semantics so it creates views into the existing array, without implicit copying. This is particularly helpful with very large arrays because copying can be slow."
   ]
  },
  {
   "cell_type": "code",
   "execution_count": null,
   "metadata": {},
   "outputs": [],
   "source": [
    "x = np.array([1,2,3,4,5,6])\n",
    "print(x)"
   ]
  },
  {
   "cell_type": "markdown",
   "metadata": {},
   "source": [
    "We slice an array from a to b-1 with `[a:b]`."
   ]
  },
  {
   "cell_type": "code",
   "execution_count": null,
   "metadata": {},
   "outputs": [],
   "source": [
    "y = x[0:4]\n",
    "print(y)"
   ]
  },
  {
   "cell_type": "markdown",
   "metadata": {},
   "source": [
    "Because slicing does not copy the array, changing `y` changes `x`."
   ]
  },
  {
   "cell_type": "code",
   "execution_count": null,
   "metadata": {},
   "outputs": [],
   "source": [
    "y[0] = 7\n",
    "print(x)\n",
    "print(y)"
   ]
  },
  {
   "cell_type": "markdown",
   "metadata": {},
   "source": [
    "To actually copy x, we should use `.copy()`. "
   ]
  },
  {
   "cell_type": "code",
   "execution_count": null,
   "metadata": {},
   "outputs": [],
   "source": [
    "x = np.array([1,2,3,4,5,6])\n",
    "y = x.copy()\n",
    "y[0] = 7\n",
    "print(x)\n",
    "print(y)"
   ]
  },
  {
   "cell_type": "markdown",
   "metadata": {},
   "source": [
    "### Useful Numpy function: arange\n",
    "\n",
    "We use `arange` to create integer sequences in numpy arrays. It's exactly like the normal range function in Python, except that it automatically returns the result as a numpy array, rather than the plain vanilla Python list.\n",
    "\n",
    "`arange(0,N)` creates an array listing every integer from 0 to N-1.\n",
    "\n",
    "`arange(0,N,m)` creates an array listing every `m` th integer from 0 to N-1 ."
   ]
  },
  {
   "cell_type": "code",
   "execution_count": null,
   "metadata": {},
   "outputs": [],
   "source": [
    "print(np.arange(-5,5)) # every integer from -5 ... 4"
   ]
  },
  {
   "cell_type": "code",
   "execution_count": null,
   "metadata": {},
   "outputs": [],
   "source": [
    "print(np.arange(0,5,2)) # every other integer from 0 ... 4"
   ]
  },
  {
   "cell_type": "markdown",
   "metadata": {},
   "source": [
    "## Plotting"
   ]
  },
  {
   "cell_type": "markdown",
   "metadata": {},
   "source": [
    "In this class, we will use `matplotlib.pyplot` to plot signals and images. \n",
    "\n",
    "By convention, we import `matplotlib.pyplot` as `plt`.\n",
    "\n",
    "**To display the plots inside the browser, we use the command `%matplotlib inline` - do not forget this line whenever you start a new notebook.** We'll always include it for you, but in case your plots aren't showing up in the notebook when you're playing around on your own, it's probably because you forgot this. If you don't include it, Python will default to displaying it in another window on your computer, which normally is fine, but here we need the plots in the notebook so they show up in your submission PDF.\n",
    "\n",
    "Note that you can also use `%matplotlib notebook` for interactive plots. We will see this later."
   ]
  },
  {
   "cell_type": "code",
   "execution_count": null,
   "metadata": {},
   "outputs": [],
   "source": [
    "import matplotlib.pyplot as plt # by convention, we import matplotlib.pyplot as plt\n",
    "\n",
    "# plot in browser instead of opening new windows\n",
    "%matplotlib inline"
   ]
  },
  {
   "cell_type": "code",
   "execution_count": null,
   "metadata": {},
   "outputs": [],
   "source": [
    "# Generate signals\n",
    "x = np.arange(0, 1, 0.001)\n",
    "y1 = np.exp(-x)                              # decaying exponential\n",
    "y2 = np.sin(2 * np.pi * 10.0 * x)/4.0 + 0.5  # 10 Hz sine wave"
   ]
  },
  {
   "cell_type": "markdown",
   "metadata": {},
   "source": [
    "### Plotting One Signal"
   ]
  },
  {
   "cell_type": "code",
   "execution_count": null,
   "metadata": {},
   "outputs": [],
   "source": [
    "plt.figure()\n",
    "plt.plot(x, y1)\n",
    "plt.show()"
   ]
  },
  {
   "cell_type": "markdown",
   "metadata": {},
   "source": [
    "### Plotting Multiple Signals in One Figure"
   ]
  },
  {
   "cell_type": "code",
   "execution_count": null,
   "metadata": {},
   "outputs": [],
   "source": [
    "plt.figure()\n",
    "plt.plot(x, y1)\n",
    "plt.plot(x, y2)\n",
    "plt.show()"
   ]
  },
  {
   "cell_type": "markdown",
   "metadata": {},
   "source": [
    "### Plotting multiple signals in different figures"
   ]
  },
  {
   "cell_type": "code",
   "execution_count": null,
   "metadata": {},
   "outputs": [],
   "source": [
    "# figsize is the dimensions of the figure:\n",
    "# - the first argument is the width\n",
    "# - the second is height\n",
    "\n",
    "# it's useful when you want to adjust the figure's dimensions, e.g. you \n",
    "# need a huge x-axis for data taken over a long time period\n",
    "plt.figure(figsize=(16, 4))\n",
    "plt.plot(x, y1)\n",
    "\n",
    "# fancy formatting stuff - try playing with it!\n",
    "plt.title(\"Decaying Exponential\")\n",
    "plt.xlabel(\"Time\")\n",
    "plt.ylabel(\"Amplitude\")\n",
    "plt.legend([\"$e^{-x}$\"])    # LaTeX fancy formatting\n",
    "plt.xlim([0, 1])            # zoom in on x-axis \n",
    "\n",
    "\n",
    "# asking plt for a new figure before plotting will put the next call to plt.plot\n",
    "# on that new figure\n",
    "plt.figure(figsize=(16, 4)) \n",
    "plt.plot(x, y2)\n",
    "plt.title(\"10 Hz Sine Wave\")\n",
    "\n",
    "# ALWAYS make sure to call plt.show() *ONCE* after all your plotting code so your plots are displayed!\n",
    "# You only need to call it once per code cell, even if you have multiple figures.\n",
    "plt.show()"
   ]
  },
  {
   "cell_type": "markdown",
   "metadata": {},
   "source": [
    "**Make no mistake - the data points used for plotting on a computer truly always are discrete, but matplotlib's `plt.plot()` function interpolates them, giving us the continuous waveforms you see above.**"
   ]
  },
  {
   "cell_type": "markdown",
   "metadata": {},
   "source": [
    "### You can also add a title and legend with `plt.title()`, `plt.legend()` to make your plots look professional!\n",
    "\n",
    "#### Using dollar signs you can add math symbols (like Latex)!"
   ]
  },
  {
   "cell_type": "code",
   "execution_count": null,
   "metadata": {
    "scrolled": false
   },
   "outputs": [],
   "source": [
    "# The figsize parameter can help you shape your figure\n",
    "plt.figure(figsize=(10,7))\n",
    "plt.plot(x, y1)\n",
    "plt.plot(x, y2)\n",
    "plt.xlabel(\"x axis\")\n",
    "plt.ylabel(\"y axis\")\n",
    "plt.title(\"Title\")\n",
    "\n",
    "# You can also change the legend font size by passing in the fontsize= paramater\n",
    "plt.legend((r'$e^{-x}$', r'$\\frac{\\sin(2\\pi \\cdot 10\\cdot x)}{4}+0.5$'), fontsize=14)\n",
    "plt.show()"
   ]
  },
  {
   "cell_type": "markdown",
   "metadata": {},
   "source": [
    "You can also specify more options in `plot()`, such as color and linewidth. You can also change the axis using `plt.axis`"
   ]
  },
  {
   "cell_type": "code",
   "execution_count": null,
   "metadata": {},
   "outputs": [],
   "source": [
    "plt.figure(figsize=(10,7))\n",
    "plt.plot(x, y1, \":r\", linewidth=10)\n",
    "plt.plot(x, y2, \"--k\")\n",
    "plt.xlabel(\"x axis\")\n",
    "plt.ylabel(\"y axis\")\n",
    "\n",
    "plt.title(\"Title\")\n",
    "\n",
    "plt.legend((r'$e^{-x}$', r'$\\frac{\\sin(10\\cdot x)}{4}+0.5$'), fontsize=14)\n",
    "\n",
    "# plt.axis takes in a list of the form [x_lower, x_upper, y_lower, y_upper]\n",
    "plt.axis([0, 0.5, -0.5, 1.5])\n",
    "plt.show()"
   ]
  },
  {
   "cell_type": "code",
   "execution_count": null,
   "metadata": {},
   "outputs": [],
   "source": [
    "# xkcd: the Comic sans of plot styles\n",
    "with plt.xkcd():\n",
    "    plt.figure()\n",
    "    plt.plot(x, y1, 'b')\n",
    "    plt.plot(x, y2, color='orange')\n",
    "    plt.xlabel(\"x axis\")\n",
    "    plt.ylabel(\"y axis\")\n",
    "    plt.title(\"Title\")\n",
    "    plt.legend((\"blue\", \"orange\"))\n",
    "    plt.show()"
   ]
  },
  {
   "cell_type": "markdown",
   "metadata": {},
   "source": [
    "### Other Plotting Functions"
   ]
  },
  {
   "cell_type": "markdown",
   "metadata": {},
   "source": [
    "There are many other plotting functions. For example, we will use `plt.imshow()` for showing images."
   ]
  },
  {
   "cell_type": "code",
   "execution_count": null,
   "metadata": {},
   "outputs": [],
   "source": [
    "image = np.outer(y1, y2) # plotting the outer product of y1 and y2\n",
    "\n",
    "plt.figure()\n",
    "plt.imshow(image)\n",
    "plt.show()"
   ]
  },
  {
   "cell_type": "markdown",
   "metadata": {},
   "source": [
    "Similarly, we use `plt.stem()` for plotting discretized signals (technically, on a computer, everything is discretized, but it's often as a result of sampling something continuous, in which case it's often more informative to plot it as a continuous signal with `plt.plot()`)."
   ]
  },
  {
   "cell_type": "code",
   "execution_count": null,
   "metadata": {},
   "outputs": [],
   "source": [
    "# decaying exponential\n",
    "n = np.arange(0, 10)\n",
    "signal = np.exp(-n / 2) \n",
    "\n",
    "# stem plot on an 8-by-4 inch figure\n",
    "plt.figure(figsize=(8, 4))\n",
    "plt.stem(n, signal)\n",
    "\n",
    "# zoom out a little on both axes to get cleaner looking plot\n",
    "plt.xlim([-.5, 9.5])\n",
    "plt.ylim([0, 1.2])\n",
    "plt.show()"
   ]
  },
  {
   "cell_type": "markdown",
   "metadata": {},
   "source": [
    "# References\n",
    "[1] The official Python 3 language documentation. [Link](https://docs.python.org/3/).  \n",
    "[2] The official numpy and scipy documentation. [Link](https://docs.scipy.org/doc/).  \n",
    "[3] The official matplotlib documentation. [Link](https://matplotlib.org/contents.html)  "
   ]
  }
 ],
 "metadata": {
  "anaconda-cloud": {},
  "kernelspec": {
   "display_name": "Python 3 (ipykernel)",
   "language": "python",
   "name": "python3"
  },
  "language_info": {
   "codemirror_mode": {
    "name": "ipython",
    "version": 3
   },
   "file_extension": ".py",
   "mimetype": "text/x-python",
   "name": "python",
   "nbconvert_exporter": "python",
   "pygments_lexer": "ipython3",
   "version": "3.8.8"
  }
 },
 "nbformat": 4,
 "nbformat_minor": 1
}
